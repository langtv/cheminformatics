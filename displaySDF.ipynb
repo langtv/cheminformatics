{
 "cells": [
  {
   "cell_type": "code",
   "execution_count": 1,
   "id": "60fa70ba",
   "metadata": {},
   "outputs": [
    {
     "name": "stdout",
     "output_type": "stream",
     "text": [
      "\n",
      "Molecule #1\n",
      "- SMILES: Oc1cc(O)c2c(c1)O[C@H](c1ccc(O)c(O)c1)[C@H](O)C2\n",
      "- Name: N/A\n",
      "- Number of atoms: 21\n",
      "- Number of bonds: 23\n",
      "- Atoms: C,C,C,C,C,C,C,C,C,O,C,C,C,C,C,C,O,O,O,O,O,\n",
      "- Bonds: 3 0 AROMATIC;0 20 SINGLE;0 1 AROMATIC;1 2 AROMATIC;2 19 SINGLE;2 5 AROMATIC;4 3 AROMATIC;4 9 SINGLE;4 5 AROMATIC;5 6 SINGLE;6 7 SINGLE;7 18 SINGLE;7 8 SINGLE;8 9 SINGLE;8 10 SINGLE;15 10 AROMATIC;10 11 AROMATIC;11 12 AROMATIC;12 16 SINGLE;12 13 AROMATIC;13 17 SINGLE;13 14 AROMATIC;14 15 AROMATIC;\n",
      "---------------------\n",
      "\n",
      "Molecule #2\n",
      "- SMILES: CC1(C)C(=O)[C@@]2(C)CC[C@@H]1C2\n",
      "- Name: N/A\n",
      "- Number of atoms: 11\n",
      "- Number of bonds: 12\n",
      "- Atoms: C,C,C,C,C,C,C,C,C,C,O,\n",
      "- Bonds: 4 9 SINGLE;4 2 SINGLE;9 3 SINGLE;3 0 SINGLE;0 1 SINGLE;1 2 SINGLE;4 5 SINGLE;0 5 SINGLE;4 6 SINGLE;3 7 SINGLE;3 8 SINGLE;9 10 DOUBLE;\n",
      "---------------------\n",
      "\n",
      "Molecule #3\n",
      "- SMILES: *C(=O)OC(CO)CO[1*]\n",
      "- Name: N/A\n",
      "- Number of atoms: 10\n",
      "- Number of bonds: 9\n",
      "- Atoms: R1,O,C,O,C,C,O,C,O,R,\n",
      "- Bonds: 0 1 SINGLE;3 2 SINGLE;4 2 SINGLE;4 6 SINGLE;4 5 SINGLE;1 5 SINGLE;6 7 SINGLE;7 8 DOUBLE;7 9 SINGLE;\n",
      "---------------------\n"
     ]
    }
   ],
   "source": [
    "#######################################\n",
    "# Print Molecules from SDF File       #\n",
    "# @author: A.Prof. Tran Van Lang, PhD #\n",
    "# File: displaySDF.py                 #\n",
    "#######################################\n",
    "\n",
    "from rdkit import Chem\n",
    "\n",
    "sdf_file = 'data/ChEBI_lite_3star.sdf'\n",
    "\n",
    "# Đọc dữ liệu từ file SDF và lưu trữ các phân tử vào danh sách molecules\n",
    "listmolecules = []\n",
    "with open(sdf_file, 'rb') as file:\n",
    "    supplier = Chem.ForwardSDMolSupplier(file)\n",
    "    for molecule in supplier:\n",
    "        if molecule is not None:\n",
    "            listmolecules.append(molecule)\n",
    "            if len(listmolecules) == 3:\n",
    "                break      \n",
    "                \n",
    "# Xuất thông tin các phân tử ra màn hình\n",
    "index = 1\n",
    "for molecule in listmolecules:\n",
    "    print( '\\nMolecule #%.d' %index )\n",
    "    index += 1\n",
    "    molblock = Chem.MolToMolBlock(molecule)\n",
    "\n",
    "    # Tạo đối tượng Mol từ MolBlock\n",
    "    mol = Chem.MolFromMolBlock(molblock)\n",
    "    print('- SMILES:',Chem.MolToSmiles(molecule))\n",
    "    \n",
    "    # Kiểm tra xem thuộc tính 'NAME' có tồn tại trong phân tử hay không\n",
    "    name = mol.GetProp('NAME') if 'NAME' in mol.GetPropsAsDict() else 'N/A'\n",
    "    print( '- Name:', name )\n",
    "    print( '- Number of atoms:', mol.GetNumAtoms())\n",
    "    print( '- Number of bonds:', mol.GetNumBonds())\n",
    "    print( '- Atoms: ',end='')\n",
    "    for atom in mol.GetAtoms():\n",
    "        print(atom.GetSymbol(), end=',')\n",
    "    print( '\\n- Bonds: ',end='')\n",
    "    for bond in mol.GetBonds():\n",
    "        print(bond.GetBeginAtomIdx(), bond.GetEndAtomIdx(), bond.GetBondType(),end=';')\n",
    "    print( '\\n---------------------')"
   ]
  },
  {
   "cell_type": "code",
   "execution_count": null,
   "id": "c812a611",
   "metadata": {},
   "outputs": [],
   "source": []
  }
 ],
 "metadata": {
  "kernelspec": {
   "display_name": "Python 3 (ipykernel)",
   "language": "python",
   "name": "python3"
  },
  "language_info": {
   "codemirror_mode": {
    "name": "ipython",
    "version": 3
   },
   "file_extension": ".py",
   "mimetype": "text/x-python",
   "name": "python",
   "nbconvert_exporter": "python",
   "pygments_lexer": "ipython3",
   "version": "3.11.4"
  }
 },
 "nbformat": 4,
 "nbformat_minor": 5
}
