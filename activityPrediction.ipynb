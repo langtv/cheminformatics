{
 "cells": [
  {
   "cell_type": "code",
   "execution_count": null,
   "id": "6b6057be",
   "metadata": {},
   "outputs": [],
   "source": [
    "#########################################\n",
    "# Main program for activity prediction  #\n",
    "# @author: A.Prof. Tran Van Lang, PhD   #\n",
    "# File: activityPrediction.py           #\n",
    "#########################################\n",
    "\n",
    "import pandas as pd\n",
    "import numpy as np\n",
    "import seaborn as sns\n",
    "import matplotlib.pyplot as plt\n",
    "from time import time\n",
    "from joblib import dump, load\n",
    "from imblearn.over_sampling import SMOTE\n",
    "from imblearn.ensemble import EasyEnsembleClassifier\n",
    "from sklearn.preprocessing import MinMaxScaler\n",
    "from sklearn.ensemble import GradientBoostingClassifier\n",
    "from visual import visualization"
   ]
  },
  {
   "cell_type": "code",
   "execution_count": null,
   "id": "7657647a",
   "metadata": {},
   "outputs": [],
   "source": [
    "# Đọc dữ liệu từ tập tin csv\n",
    "df_train = pd.read_csv('data/BioassayDatasets/AID456red_train.csv')\n",
    "df_test  = pd.read_csv('data/BioassayDatasets/AID456red_test.csv')"
   ]
  },
  {
   "cell_type": "code",
   "execution_count": null,
   "id": "ff8ce603",
   "metadata": {},
   "outputs": [],
   "source": [
    "print( df_train.columns )"
   ]
  },
  {
   "cell_type": "code",
   "execution_count": null,
   "id": "e87590d2",
   "metadata": {},
   "outputs": [],
   "source": [
    "# Xóa các hàng có giá trị bị khuyết (missing values)\n",
    "df_train.dropna(inplace=True)"
   ]
  },
  {
   "cell_type": "code",
   "execution_count": null,
   "id": "a82c4b02",
   "metadata": {},
   "outputs": [],
   "source": [
    "# Xem qua về độ chênh của dữ liệu\n",
    "data = df_train.loc[:,'NEG_01_NEG':'BadGroup']\n",
    "plt.figure(figsize=(10, 6))\n",
    "for col in data.columns:\n",
    "    plt.plot(data[col], label=col)\n",
    "plt.xlabel('Index')\n",
    "plt.ylabel('Value')\n",
    "#plt.legend()\n",
    "plt.show()"
   ]
  },
  {
   "cell_type": "code",
   "execution_count": null,
   "id": "cbb8732f",
   "metadata": {},
   "outputs": [],
   "source": [
    "print( 'Số lượng mẫu\\n- Tập huấn luyện')\n",
    "print( '    Loại inactivity:',df_train['Outcome'].value_counts()[0] )\n",
    "print( '    Loại activity  :',df_train['Outcome'].value_counts()[1] )\n",
    "print( '- Tập kiểm chứng')\n",
    "print( '    Loại inactivity:',df_test['Outcome'].value_counts()[0] )\n",
    "print( '    Loại activity  :',df_test['Outcome'].value_counts()[1] )"
   ]
  },
  {
   "cell_type": "code",
   "execution_count": null,
   "id": "15760f52",
   "metadata": {},
   "outputs": [],
   "source": [
    "# Dữ liệu gốc dùng để huấn luyện và kiểm chứng\n",
    "X_tr = df_train.drop('Outcome', axis=1).values\n",
    "X_te = df_test.drop('Outcome', axis=1).values\n",
    "\n",
    "y_tr = df_train['Outcome'].values\n",
    "y_te = df_test['Outcome'].values"
   ]
  },
  {
   "cell_type": "code",
   "execution_count": null,
   "id": "8aaea8b4",
   "metadata": {},
   "outputs": [],
   "source": [
    "# Ban đầu, huấn luyện thử nghiệm mô hình theo GradientBoosting với các hyperparameter tuỳ chọn\n",
    "X_train, X_test = X_tr, X_te\n",
    "y_train, y_test = y_tr, y_te\n",
    "\n",
    "gb = GradientBoostingClassifier( n_estimators=150, max_depth=10,random_state=42 )\n",
    "gb.fit(X_train, y_train)\n",
    "visualization('GradientBoosting',gb,X_test,y_test )"
   ]
  },
  {
   "cell_type": "code",
   "execution_count": null,
   "id": "08b5c3fd",
   "metadata": {},
   "outputs": [],
   "source": [
    "visualization('GradientBoosting',gb,X_test,y_test )"
   ]
  },
  {
   "cell_type": "code",
   "execution_count": null,
   "id": "7b94cc39",
   "metadata": {},
   "outputs": [],
   "source": [
    "# Dùng thêm EasyEnsemble cũng với tham số tuỳ chọn\n",
    "X_train, X_test = X_tr, X_te\n",
    "y_train, y_test = y_tr, y_te\n",
    "\n",
    "ee = EasyEnsembleClassifier(n_estimators=100, random_state=0,n_jobs=-1)\n",
    "ee.fit(X_train, y_train)\n",
    "visualization('EasyEnsemble',ee,X_test,y_test)"
   ]
  },
  {
   "cell_type": "code",
   "execution_count": null,
   "id": "ba0474e7",
   "metadata": {},
   "outputs": [],
   "source": [
    "# Rút gọn thuộc tính dùng ma trận tương quan để chọn đặc trưng\n",
    "corr_matrix = df_train.drop('Outcome', axis=1).corr()\n",
    "threshold = 0.75\n",
    "\n",
    "corr_features = set()  \n",
    "for i in range(len(corr_matrix.columns)):\n",
    "    for j in range(i):\n",
    "        if abs(corr_matrix.iloc[i, j]) > threshold:\n",
    "            colname = corr_matrix.columns[i]\n",
    "            corr_features.add(colname)\n",
    "\n",
    "selected_features = set(df_train.columns) - corr_features\n",
    "corr_features.add('Outcome')\n",
    "print( 'Thuộc tính loại bỏ:\\n',corr_features )\n",
    "print( '\\nThuộc tính chọn :\\n',selected_features )"
   ]
  },
  {
   "cell_type": "code",
   "execution_count": null,
   "id": "789327c8",
   "metadata": {},
   "outputs": [],
   "source": [
    "# Tạo dữ liệu huấn luyện và kiểm chứng sau khi đã rút gọn\n",
    "X_train_se = df_train.drop(corr_features, axis=1).values\n",
    "X_test_se  = df_test.drop(corr_features, axis=1).values"
   ]
  },
  {
   "cell_type": "code",
   "execution_count": null,
   "id": "dfe1c2e7",
   "metadata": {},
   "outputs": [],
   "source": [
    "# Dùng EasyEnsemble với dữ liệu đã rút gọn thuộc tính\n",
    "X_train, X_test = X_train_se, X_test_se\n",
    "y_train, y_test = y_tr, y_te\n",
    "\n",
    "ee = EasyEnsembleClassifier(n_estimators=100, random_state=0,n_jobs=-1)\n",
    "ee.fit(X_train, y_train)\n",
    "visualization('EasyEnsemble_selectedfeature',ee,X_test,y_test)"
   ]
  },
  {
   "cell_type": "code",
   "execution_count": null,
   "id": "0a2c8865",
   "metadata": {},
   "outputs": [],
   "source": [
    "# Xử lý dữ liệu, dùng Min-max scaling để chuyển đổi giá trị dữ liệu về khoảng mong muốn\n",
    "minmax_scaler = MinMaxScaler()\n",
    "X_train_mms = minmax_scaler.fit_transform(X_train_se)\n",
    "X_test_mms = minmax_scaler.fit_transform(X_test_se)"
   ]
  },
  {
   "cell_type": "code",
   "execution_count": null,
   "id": "cef06206",
   "metadata": {},
   "outputs": [],
   "source": [
    "# Huấn luyện lại mô hình trên dữ liệu đã xử lý\n",
    "X_train, X_test = X_train_mms, X_test_mms\n",
    "y_train, y_test = y_tr, y_te\n",
    "\n",
    "ee = EasyEnsembleClassifier(n_estimators=100, random_state=0,n_jobs=-1)\n",
    "ee.fit(X_train, y_train)\n",
    "visualization('EasyEnsemble_selectedfeatures_MMax',ee,X_test,y_test )"
   ]
  },
  {
   "cell_type": "code",
   "execution_count": null,
   "id": "45b16332",
   "metadata": {},
   "outputs": [],
   "source": [
    "# Tạo mẫu để xử lý mất cân bằng dùng phương pháp SMOTE để tăng cường thêm\n",
    "smote = SMOTE(random_state=42)\n",
    "X_train_smote, y_train_smote = smote.fit_resample(X_train_mms, y_tr)\n",
    "print(\"Số lượng mẫu sau khi resample:\", len(X_train_smote))"
   ]
  },
  {
   "cell_type": "code",
   "execution_count": null,
   "id": "b26f7f1b",
   "metadata": {},
   "outputs": [],
   "source": [
    "X_train, X_test = X_train_smote, X_test_mms\n",
    "y_train, y_test = y_train_smote, y_te\n",
    "\n",
    "ee = EasyEnsembleClassifier(n_estimators=40, random_state=9,n_jobs=-1)\n",
    "ee.fit(X_train, y_train)\n",
    "visualization('EasyEnsemble_selectedfeatures_MMax_SMOTE',ee,X_test,y_test )"
   ]
  },
  {
   "cell_type": "code",
   "execution_count": null,
   "id": "5ecfc681",
   "metadata": {},
   "outputs": [],
   "source": []
  }
 ],
 "metadata": {
  "kernelspec": {
   "display_name": "Python 3 (ipykernel)",
   "language": "python",
   "name": "python3"
  },
  "language_info": {
   "codemirror_mode": {
    "name": "ipython",
    "version": 3
   },
   "file_extension": ".py",
   "mimetype": "text/x-python",
   "name": "python",
   "nbconvert_exporter": "python",
   "pygments_lexer": "ipython3",
   "version": "3.11.4"
  }
 },
 "nbformat": 4,
 "nbformat_minor": 5
}
